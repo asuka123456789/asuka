{
 "cells": [
  {
   "cell_type": "code",
   "execution_count": null,
   "id": "ec220620",
   "metadata": {},
   "outputs": [],
   "source": [
    "import numpy as np\n",
    "import pandas as pd\n",
    "a=np.array([12.38,12.70,12.96,12.87,12.66,12.72,12.74,12.77,13.06,13.08])\n",
    "print(np.mean(a))#求均值\n",
    "print(np.std(a，ddof=1)\n",
    "#求标准差,无偏ddof=1\n",
    "print(np.var(a, ddof=1))\n",
    "#求方差\n",
    "print(100*np.std(a,ddof=1)/np.mean(a))#求变异系数\n",
    "s=pd.Series(a)\n",
    "print(s.skew())#求偏度print(s.kurt())#求峰度\n"
   ]
  },
  {
   "cell_type": "code",
   "execution_count": null,
   "id": "811e565c",
   "metadata": {},
   "outputs": [],
   "source": [
    "12.794\n",
    "0.04367111111111109\n",
    "1.6333933174298272\n",
    "-0.4191691146084928\n"
   ]
  },
  {
   "cell_type": "code",
   "execution_count": null,
   "id": "939ed929",
   "metadata": {},
   "outputs": [],
   "source": [
    "import numpy as np\n",
    "a=np.array([9.89,8.00,6.40,6.17,5.39,7.27,9.08,10.40,11.20,8.75,6.45,11.90,10.30,9.58,9.24,7.75,6.20,8.95,8.33])\n",
    "print(np.median(a))\n",
    "print(np.percentile(a, (75,25,99,95,90,10,5,1),interpolation='midpoint'))#求诸分位数nearest,linear,lower,higher\n",
    "print(np.max(a)-np.min(a)) # **\n",
    "Q = np.percentile(a, (75,25), interpolation='midpoint')\n",
    "print(Q[0]-Q[1])#求极差\n",
    "M = np.median(a)\n",
    "print(0.25*Q[1]+0.5*M+0.25*Q[0])\n",
    "\n",
    "#求三按值\n"
   ]
  },
  {
   "cell_type": "code",
   "execution_count": null,
   "id": "f9925073",
   "metadata": {},
   "outputs": [],
   "source": [
    "8.75\n",
    "[ 9.735  6.86  11.55  11.55  10.8    6.185  5.78   5.78 ]\n",
    "6.510000000000001\n",
    "2.875\n",
    "8.52375\n"
   ]
  },
  {
   "cell_type": "code",
   "execution_count": null,
   "id": "c936d51d",
   "metadata": {},
   "outputs": [],
   "source": [
    "from itertools import groupby\n",
    "nums2=[25,45,50,54,55,61,64,68,72,75,75,78,79,81,83,84,84,84,85,86,86,86,87,89,89,89,90,91,91,92,100]\n",
    "for k, g in groupby(sorted(nums2), key=lambda x: int(x)//10):\n",
    "    lst = map(str,[int(y) % 10 for y in list(g)])\n",
    "    print (k, '|',''.join(lst))\n"
   ]
  },
  {
   "cell_type": "code",
   "execution_count": null,
   "id": "3e815dfb",
   "metadata": {},
   "outputs": [],
   "source": [
    "2 | 5\n",
    "4 | 5\n",
    "5 | 045\n",
    "6 | 148\n",
    "7 | 25589\n",
    "8 | 1344456667999\n",
    "9 | 0112\n",
    "10 | 0\n"
   ]
  },
  {
   "cell_type": "code",
   "execution_count": null,
   "id": "86367d3c",
   "metadata": {},
   "outputs": [],
   "source": [
    "import numpy as np\n",
    "from scipy.stats import probplot \n",
    "import matplotlib.pyplot as plt\n",
    "data = np. random. normal (loc=0, scale=1, size=100)\n",
    "(osm, osr), (slope, intercept, r) = probplot (data, dist=\"norm\")\n",
    "plt.scatter(osr, osm, color='blue', label='Sample Quantiles')\n",
    "plt.plot(osr, intercept + slope * osr, 'r-', label='Fitted Line' )\n",
    "plt.title('Q9 Plot for Normal Distribution') \n",
    "plt.xlabel('Theoretical Quantiles') \n",
    "plt.ylabel('Sample Quantiles') \n",
    "plt.legend()\n",
    "plt.show() \n",
    "print(\"斜率:\",slope) \n",
    "print(\"截距:\",intercept)\n",
    "print(\"相关系数:\",r)\n"
   ]
  },
  {
   "cell_type": "code",
   "execution_count": null,
   "id": "2a9e7eef",
   "metadata": {},
   "outputs": [],
   "source": [
    "斜率: 1.0134661019497775\n",
    "截距: -0.13974625142574548\n",
    "相关系数: 0.996482023594988\n"
   ]
  },
  {
   "cell_type": "code",
   "execution_count": null,
   "id": "f0c29ed0",
   "metadata": {},
   "outputs": [],
   "source": [
    "from itertools import groupby\n",
    "nums2=[53.0,70.2,84.3,55.3,78.5,63.5,71.4,53.4,82.5,67.3,\n",
    "       69.5,73.0,55.7,85.8,95.4,51.1,74.4,54.1,77.8,52.4,\n",
    "       69.1,53.5,64.3,82.7,55.7,70.5,87.5,50.7,72.3,59.5]\n",
    "for k, g in groupby(sorted(nums2), key=lambda x:int(x+0.5) // 10):\n",
    "    lst = map(str, [int(y+0.5)% 10 for y in list(g)])\n",
    "    print (k, '|',''.join(lst))\n"
   ]
  },
  {
   "cell_type": "code",
   "execution_count": null,
   "id": "13f7be55",
   "metadata": {},
   "outputs": [],
   "source": [
    "5 | 1123344566\n",
    "6 | 04479\n",
    "7 | 001123489\n",
    "8 | 33468\n",
    "9 | 5\n"
   ]
  },
  {
   "cell_type": "code",
   "execution_count": null,
   "id": "e8bf2f7d",
   "metadata": {},
   "outputs": [],
   "source": [
    "import pandas as pd\n",
    "import matplotlib.pyplot as plt\n",
    "s=pd.Series([25,45,50,54,55,61,64,68,72,75,75,78,79,81,\n",
    "83,84,84,84,85,86,86,86,87,89,89,89,90,91,91,92,100])\n",
    "df = pd.DataFrame(s)\n",
    "df.columns=['value']\n",
    "f = plt.boxplot(df['value'], vert =False, patch_artist\n",
    "=False,meanline =True,showmeans = True)\n",
    "plt.show()\n"
   ]
  },
  {
   "cell_type": "code",
   "execution_count": null,
   "id": "e3ba2b24",
   "metadata": {},
   "outputs": [],
   "source": [
    "import numpy as np\n",
    "from scipy.stats import kstest\n",
    "from scipy.stats import shapiro\n",
    "a=[74.3,78.8,68.8,78.0,70.4,80.5,80.5,69.7,71.2,73.5,79.5,75.6,75.0,78.8,\n",
    "   72.0,72.0,72.0,74.3,71.2,72.0,75.0,73.5,78.8,74.3,75.8,65.0,74.3,71.2,\n",
    "   69.7,68.0,73.5,75.0,72.0,64.3,75.8,80.3,69.7,74.3,73.5,73.5,75.8,75.8,\n",
    "   68.8,76.5,70.4,71.2,81.2,75.0,70.4,68.0,70.4,72.0,76.5,74.3,76.5,77.6,\n",
    "   67.3,72.0,75.0,74.3,73.5,79.5,73.5,74.7,65.0,76.5,81.6,75.4,72.7,72.7,\n",
    "   67.2,76.5,72.7,70.4,77.2,68.8,67.5,67.5,67.3,72.7,75.8,73.5,75.0,73.5,\n",
    "   73.5,73.5,72.7,81.6,70.3,74.3,73.5,79.5,70.4,76.5,72.7,77.2,84.3,75.0,\n",
    "   76.5,70.4]\n",
    "#w检验\n",
    "stat,p = shapiro(a)\n",
    "print(\"stat: %f\"%stat,\"p value: %f\" %p)\n",
    "#Kolmogorov-Smirnov检验\n",
    "#输出结果中第一个为统计量,第二个为P值,\n",
    "print(kstest(a, 'norm'))\n"
   ]
  },
  {
   "cell_type": "code",
   "execution_count": null,
   "id": "95d73fcd",
   "metadata": {},
   "outputs": [],
   "source": [
    "stat: 0.990321 p value: 0.690579\n",
    "KstestResult(statistic=1.0, pvalue=0.0)\n"
   ]
  },
  {
   "cell_type": "code",
   "execution_count": null,
   "id": "3e79badc",
   "metadata": {},
   "outputs": [],
   "source": [
    "import scipy\n",
    "from scipy.stats import pearsonr,spearmanr\n",
    "x= scipy.array([67,54,72,64,39,22,58,43,46,34])\n",
    "y = scipy.array([24,15,23,19,16,11,20,16,17,13])\n",
    "# pearsonr\n",
    "r_row, p_value = pearsonr(x, y)\n",
    "print(r_row)\n",
    "print(p_value)\n",
    "# spearmanr\n",
    "rho,p_value = spearmanr(x, y)\n",
    "print(rho)\n",
    "print(p_value)\n"
   ]
  },
  {
   "cell_type": "code",
   "execution_count": null,
   "id": "9faa70d1",
   "metadata": {},
   "outputs": [],
   "source": [
    "0.9202595441018038\n",
    "0.0001605157958250389\n",
    "0.8997002046464955\n",
    "0.00039167359562948393\n"
   ]
  },
  {
   "cell_type": "code",
   "execution_count": null,
   "id": "75c50d3d",
   "metadata": {},
   "outputs": [],
   "source": [
    "<ipython-input-15-5fbf133cb303>:3: DeprecationWarning: scipy.array is deprecated and will be removed in SciPy 2.0.0, use numpy.array instead\n",
    "  x= scipy.array([67,54,72,64,39,22,58,43,46,34])\n",
    "<ipython-input-15-5fbf133cb303>:4: DeprecationWarning: scipy.array is deprecated and will be removed in SciPy 2.0.0, use numpy.array instead\n",
    "  y = scipy.array([24,15,23,19,16,11,20,16,17,13])\n"
   ]
  },
  {
   "cell_type": "code",
   "execution_count": null,
   "id": "4a39af1c",
   "metadata": {},
   "outputs": [],
   "source": [
    "from scipy.stats import ranksums\n",
    "a = [18,24,25,27,30,35]\n",
    "b = [20,21,28,32,34,38,40]\n",
    "#秩和检验\n",
    "print(ranksums(a, b))\n"
   ]
  },
  {
   "cell_type": "code",
   "execution_count": null,
   "id": "14e48824",
   "metadata": {},
   "outputs": [],
   "source": [
    "RanksumsResult(statistic=-1.0, pvalue=0.31731050786291415)\n"
   ]
  },
  {
   "cell_type": "code",
   "execution_count": null,
   "id": "0febc789",
   "metadata": {},
   "outputs": [],
   "source": [
    "from scipy.stats import mannwhitneyu\n",
    "a = [2,3,3,3,3,3,3,3,3,3,4,4,4,4,4,4,4,5,5,5]\n",
    "b = [1,1,2,2,3,3,3,3,3,3,3,3,3,3,3,4,4,4,4,5]\n",
    "print(mannwhitneyu(a,b,use_continuity=False, alternative='greater'))\n"
   ]
  },
  {
   "cell_type": "code",
   "execution_count": null,
   "id": "e79ed22c",
   "metadata": {},
   "outputs": [],
   "source": [
    "MannwhitneyuResult(statistic=266.0, pvalue=0.026629606208391873)\n"
   ]
  },
  {
   "cell_type": "code",
   "execution_count": null,
   "id": "4c1442d8",
   "metadata": {},
   "outputs": [],
   "source": [
    "from scipy.stats import ks_2samp\n",
    "a = [6.8,3.1,5.8,4.5,3.3,4.7,4.2,4.9]\n",
    "b = [4.4,2.5,2.8,2.1,6.6,0.0,4.8,2.3]\n",
    "print(ks_2samp(a,b))\n"
   ]
  },
  {
   "cell_type": "code",
   "execution_count": null,
   "id": "f125f12a",
   "metadata": {},
   "outputs": [],
   "source": [
    "KstestResult(statistic=0.625, pvalue=0.08702408702408701)\n"
   ]
  },
  {
   "cell_type": "code",
   "execution_count": null,
   "id": "b01401fb",
   "metadata": {},
   "outputs": [],
   "source": [
    "from statsmodels.stats.descriptivestats import sign_test\n",
    "\n",
    "x=[2.8,3.9,3.1,2.9,3.3,2.6,2.9,3.4,2.9,2.9,2.7,2.6,3.0,3.3,3.4,2.7,3.1,2.8]\n",
    "y=[2.5,3.1,3.3,2.6,3.1,2.8,2.7,3.2,2.7,2.7,2.5,2.9,3.4,3.0,3.2,2.9,2.8,2.4]\n",
    "\n",
    "#计算两个相关样本的符号检验\n",
    "stat, p_value = sign_test(x,y)\n",
    "\n",
    "print(f\"符号检验的统计量:{stat}\")\n",
    "print(f\"符号检验的p值:{p_value}\")\n"
   ]
  },
  {
   "cell_type": "code",
   "execution_count": null,
   "id": "4b716749",
   "metadata": {},
   "outputs": [],
   "source": [
    "符号检验的统计量:4.0\n",
    "符号检验的p值:0.09625244140624999\n"
   ]
  },
  {
   "cell_type": "code",
   "execution_count": null,
   "id": "cd4d5931",
   "metadata": {},
   "outputs": [],
   "source": [
    "from scipy.stats import wilcoxon\n",
    "a=[459,367,303,392,310,342,421,446,430,412]\n",
    "b=[414,306,321,443,281,301,353,391,405,390]\n",
    "print(wilcoxon(a,b))\n"
   ]
  },
  {
   "cell_type": "code",
   "execution_count": null,
   "id": "5f3f236c",
   "metadata": {},
   "outputs": [],
   "source": [
    "WilcoxonResult(statistic=8.0, pvalue=0.048828125)\n"
   ]
  },
  {
   "cell_type": "code",
   "execution_count": null,
   "id": "4290d1dc",
   "metadata": {},
   "outputs": [],
   "source": [
    "from scipy.stats import wilcoxon\n",
    "a= [14,18,2,4,-5,14,-3,-1,1,6,3,3]\n",
    "b = [8,26,-7,-1,2,9,0,-4,13,3,3,4]\n",
    "print(wilcoxon(a,b,zero_method='zsplit'))\n",
    "###运行结果:\n",
    "###WilcoxonResult(statistic=37.5,pvalue=0.90614956842225747)\n"
   ]
  },
  {
   "cell_type": "code",
   "execution_count": null,
   "id": "43b3fb76",
   "metadata": {},
   "outputs": [],
   "source": [
    "WilcoxonResult(statistic=37.5, pvalue=0.9061495684222575)\n"
   ]
  },
  {
   "cell_type": "code",
   "execution_count": null,
   "id": "46574d2c",
   "metadata": {},
   "outputs": [],
   "source": [
    "C:\\Users\\lenovo\\anaconda3\\lib\\site-packages\\scipy\\stats\\morestats.py:2958: UserWarning: Exact p-value calculation does not work if there are ties. Switching to normal approximation.\n",
    "  warnings.warn(\"Exact p-value calculation does not work if there are \"\n"
   ]
  },
  {
   "cell_type": "code",
   "execution_count": null,
   "id": "0de1e05b",
   "metadata": {},
   "outputs": [],
   "source": [
    "from scipy.stats import friedmanchisquare\n",
    "a=[23.1,57.6,10.5,23.6,11.9,54.6,21.0,20.3]\n",
    "b= [22.7,53.2,9.7,19.6,13.8,47.1,13.6,23.6]\n",
    "c= [22.5,53.7,10.8,21.1,13.7,39.2,13.7,16.3]\n",
    "d=[22.6,53.1,8.3,21.6,13.3,37.0,14.8,14.8]\n",
    "friedmanchisquare(a,b,c,d)\n"
   ]
  },
  {
   "cell_type": "code",
   "execution_count": null,
   "id": "490a70c1",
   "metadata": {},
   "outputs": [],
   "source": [
    "FriedmanchisquareResult(statistic=6.449999999999989, pvalue=0.09165537466946727)"
   ]
  },
  {
   "cell_type": "code",
   "execution_count": null,
   "id": "26d19f1d",
   "metadata": {},
   "outputs": [],
   "source": [
    "import numpy as np\n",
    "import scipy as sp\n",
    "import matplotlib.pyplot as plt\n",
    "from sklearn.linear_model import LinearRegression\n",
    "from sklearn import metrics\n",
    "x=[[274,2450],[180,3254],[375,3802],[205,2838],[86,2347],\n",
    "   [265,3782],[98,3008],[330,2450],[195,2137],[53,2560],\n",
    "   [430,4020],[372,4427],[236,2660],[157,2088],[370,2605]]\n",
    "y=[162,120,223,131,67,169,81,192,116,55,252,232,144,103,212]\n",
    "linreg=LinearRegression()\n",
    "linreg.fit(x,y)\n",
    "print(linreg.intercept_,linreg.coef_)\n",
    "y_per=linreg.predict(x)\n",
    "decision_score=linreg.score(x,y)\n",
    "print(decision_score)\n"
   ]
  },
  {
   "cell_type": "code",
   "execution_count": null,
   "id": "f7e0b978",
   "metadata": {},
   "outputs": [],
   "source": [
    "3.452612789903668 [0.49600498 0.00919908]\n",
    "0.9989446776058757\n"
   ]
  },
  {
   "cell_type": "code",
   "execution_count": null,
   "id": "da0fc14a",
   "metadata": {},
   "outputs": [],
   "source": [
    "import statsmodels.api as sm\n",
    "x=[[1,274,2450],[1,180,3254],[1,375,3802],[1,205,2838],\n",
    "   [1,86,2347],[1,265,3782],[1,98,3008],[1,330,2450],\n",
    "   [1,195,2137],[1,53,2560],[1,430,4020],[1,372,4427],\n",
    "   [1,236,2660],[1,157,2088],[1,370,2605]]\n",
    "y=[162,120,223,131,67,169,81,192,116,55,252,232,144,103,212]\n",
    "\n",
    "model=sm.OLS(y,x).fit()\n",
    "sm.stats.linear_rainbow(model)\n",
    "model.summary()\n"
   ]
  },
  {
   "cell_type": "code",
   "execution_count": null,
   "id": "60d0ad0e",
   "metadata": {},
   "outputs": [],
   "source": [
    "C:\\Users\\lenovo\\anaconda3\\lib\\site-packages\\scipy\\stats\\stats.py:1603: UserWarning: kurtosistest only valid for n>=20 ... continuing anyway, n=15\n",
    "  warnings.warn(\"kurtosistest only valid for n>=20 ... continuing \"\n"
   ]
  },
  {
   "cell_type": "code",
   "execution_count": null,
   "id": "04b371d4",
   "metadata": {},
   "outputs": [],
   "source": [
    "import statsmodels.formula.api as smf\n",
    "import pandas as pd\n",
    "def forward_selected(data, response):\n",
    "    remaining = set(data.columns)\n",
    "    remaining.remove(response)\n",
    "    selected = []\n",
    "    current_score, best_new_score = 0.0, 0.0\n",
    "    while remaining and current_score == best_new_score:\n",
    "        scores_with_candidates = []\n",
    "        for candidate in remaining:\n",
    "            formula=\"{}~{}+ 1\".format(response,' +'.join(selected + [candidate]))\n",
    "            score = smf.ols(formula, data).fit().rsquared_adj\n",
    "            scores_with_candidates.append((score, candidate))\n",
    "        scores_with_candidates.sort()\n",
    "        best_new_score, best_candidate = scores_with_candidates.pop()\n",
    "        if current_score < best_new_score:\n",
    "            remaining.remove(best_candidate)\n",
    "            selected.append(best_candidate)\n",
    "            current_score = best_new_score\n",
    "    formula = \"{} ~ {}+ 1\".format(response,' +'.join(selected))\n",
    "    model = smf.ols(formula, data).fit()\n"
   ]
  },
  {
   "cell_type": "code",
   "execution_count": null,
   "id": "ff7a8bd3",
   "metadata": {},
   "outputs": [],
   "source": [
    "import statsmodels.api as sm\n",
    "x=[[1,2.5,0,0],[1,173.0,2,0],[1,119.0,2,0],[1,10.0,2,0],[1,502.2,2,0],\n",
    "   [1,4.0,0,0],[1,14.4,0,1],[1,2.0,2,0],[1,40.0,2,0],[1,6.6,0,0],[1,21.4,2,1],\n",
    "   [1,2.8,0,0],[1,2.5,0,0],[1,6.0,0,0],[1,3.5,0,1],[1,62.2,0,0],[1,10.8,0,1],\n",
    "   [1,21.6,0,1],[1,2.0,0,1],[1,3.4,2,1],[1,5.1,0,1],[1,2.4,0,0],[1,1.7,0,1],\n",
    "   [1,1.1,0,1],[1,12.8,0,1],[1,1.2,2,0],[1,3.5,0,0],[1,39.7,0,0],[1,62.4,0,0],\n",
    "   [1,2.4,0,0],[1,34.7,0,0],[1,28.4,2,0],[1,0.9,0,1],[1,30.6,2,0],[1,5.8,0,1],\n",
    "   [1,6.1,0,1],[1,2.7,2,1],[1,4.7,0,0],[1,128.0,2,1],[1,35.0,0,0],[1,2.0,0,0],\n",
    "   [1,8.5,0,1],[1,2.0,2,1],[1,2.0,0,1],[1,4.3,0,1],[1,244.8,2,1],[1,4.0,0,1],\n",
    "   [1,5.1,0,1],[1,32.0,0,1],[1,1.4,0,1]]\n",
    "y=[0,0,0,0,0,0,0,0,0,0,0,0,0,0,0,1,1,1,1,1,1,1,1,1,1,0,0,0,0,0,0,0,\n",
    "   0,0,0,0,0,0,0,0,1,1,1,1,1,1,1,1,1,1]\n",
    "print(x)\n",
    "model=sm.Logit(y,x).fit()\n",
    "print(model.summary())\n"
   ]
  },
  {
   "cell_type": "code",
   "execution_count": null,
   "id": "7ac87c1b",
   "metadata": {},
   "outputs": [],
   "source": [
    "[[1, 2.5, 0, 0], [1, 173.0, 2, 0], [1, 119.0, 2, 0], [1, 10.0, 2, 0], [1, 502.2, 2, 0], [1, 4.0, 0, 0], [1, 14.4, 0, 1], [1, 2.0, 2, 0], [1, 40.0, 2, 0], [1, 6.6, 0, 0], [1, 21.4, 2, 1], [1, 2.8, 0, 0], [1, 2.5, 0, 0], [1, 6.0, 0, 0], [1, 3.5, 0, 1], [1, 62.2, 0, 0], [1, 10.8, 0, 1], [1, 21.6, 0, 1], [1, 2.0, 0, 1], [1, 3.4, 2, 1], [1, 5.1, 0, 1], [1, 2.4, 0, 0], [1, 1.7, 0, 1], [1, 1.1, 0, 1], [1, 12.8, 0, 1], [1, 1.2, 2, 0], [1, 3.5, 0, 0], [1, 39.7, 0, 0], [1, 62.4, 0, 0], [1, 2.4, 0, 0], [1, 34.7, 0, 0], [1, 28.4, 2, 0], [1, 0.9, 0, 1], [1, 30.6, 2, 0], [1, 5.8, 0, 1], [1, 6.1, 0, 1], [1, 2.7, 2, 1], [1, 4.7, 0, 0], [1, 128.0, 2, 1], [1, 35.0, 0, 0], [1, 2.0, 0, 0], [1, 8.5, 0, 1], [1, 2.0, 2, 1], [1, 2.0, 0, 1], [1, 4.3, 0, 1], [1, 244.8, 2, 1], [1, 4.0, 0, 1], [1, 5.1, 0, 1], [1, 32.0, 0, 1], [1, 1.4, 0, 1]]\n",
    "Optimization terminated successfully.\n",
    "         Current function value: 0.465670\n",
    "         Iterations 6\n",
    "                           Logit Regression Results                           \n",
    "==============================================================================\n",
    "Dep. Variable:                      y   No. Observations:                   50\n",
    "Model:                          Logit   Df Residuals:                       46\n",
    "Method:                           MLE   Df Model:                            3\n",
    "Date:                Fri, 06 Dec 2024   Pseudo R-squ.:                  0.3081\n",
    "Time:                        23:46:22   Log-Likelihood:                -23.283\n",
    "converged:                       True   LL-Null:                       -33.651\n",
    "Covariance Type:            nonrobust   LLR p-value:                 0.0001195\n",
    "==============================================================================\n",
    "                 coef    std err          z      P>|z|      [0.025      0.975]\n",
    "------------------------------------------------------------------------------\n",
    "const         -1.6965      0.659     -2.576      0.010      -2.987      -0.406\n",
    "x1             0.0023      0.006      0.409      0.682      -0.009       0.013\n",
    "x2            -0.7921      0.487     -1.626      0.104      -1.747       0.163\n",
    "x3             2.8304      0.793      3.567      0.000       1.275       4.385\n",
    "==============================================================================\n"
   ]
  },
  {
   "cell_type": "code",
   "execution_count": null,
   "id": "40005cc7",
   "metadata": {},
   "outputs": [],
   "source": [
    "import numpy as np\n",
    "X=np.array([[92,77,80,95,99,126],[97,75,77,80,95,125],[95,80,70,78,89,120],\n",
    "[75,75,73,88,98,110],[92,68,72,79,88,113],[90,85,80,70,78,103],\n",
    "[72,93,75,77,80,100],[88,70,76,72,81,102],[64,70,69,85,93,105],\n",
    "[70,73,70,87,84,100],[78,69,75,73,89,97],[78,72,71,68,75,96],\n",
    "[75,64,63,76,73,92],[84,66,77,55,65,76],[70,64,51,60,67,88],\n",
    "[58,72,75,62,52,75],[82,73,40,50,48,61],[45,65,42,47,43,60]])\n",
    "corrMat= np.corrcoef(X,rowvar=0)\n",
    "print(corrMat)\n",
    "eigVals,eigVects=np.linalg.eig(np.mat(corrMat))\n",
    "print(eigVals)\n",
    "print(eigVects)\n",
    "eigVallnd=np.argsort(eigVals)###对特征值和特征向量排序\n",
    "topNfeat=9999999\n",
    "eigVallnd=eigVallnd[ :- (topNfeat+1) :- 1]\n",
    "redEigVals=eigVals[eigVallnd]\n",
    "redEigVects=eigVects[:,eigVallnd]\n",
    "print(redEigVals)\n",
    "print(redEigVects)\n"
   ]
  },
  {
   "cell_type": "code",
   "execution_count": null,
   "id": "ab5bfd2e",
   "metadata": {},
   "outputs": [],
   "source": [
    "[[1.         0.29428029 0.48759901 0.38144201 0.56313535 0.65258972]\n",
    " [0.29428029 1.         0.41200853 0.3449402  0.31106173 0.39007936]\n",
    " [0.48759901 0.41200853 1.         0.63398265 0.68058492 0.68142927]\n",
    " [0.38144201 0.3449402  0.63398265 1.         0.91737044 0.88118016]\n",
    " [0.56313535 0.31106173 0.68058492 0.91737044 1.         0.94190624]\n",
    " [0.65258972 0.39007936 0.68142927 0.88118016 0.94190624 1.        ]]\n",
    "[3.98290328 0.83140783 0.66303821 0.4120418  0.06403359 0.04657529]\n",
    "[[ 0.34279369  0.07105346  0.88272434  0.11837412 -0.28758821 -0.03901564]\n",
    " [ 0.25355357  0.91405127 -0.20000598  0.23378023  0.02012977 -0.07183364]\n",
    " [ 0.40390241  0.11256434 -0.04505089 -0.90611928 -0.006436    0.03269487]\n",
    " [ 0.44669261 -0.23400286 -0.40531955  0.20194182 -0.71150595  0.18548105]\n",
    " [ 0.47278464 -0.26332873 -0.120036    0.1543939   0.29697292 -0.76203257]\n",
    " [ 0.48167034 -0.15063729  0.00855457  0.21369194  0.56781402  0.61412694]]\n",
    "[3.98290328 0.83140783 0.66303821 0.4120418  0.06403359 0.04657529]\n",
    "[[ 0.34279369  0.07105346  0.88272434  0.11837412 -0.28758821 -0.03901564]\n",
    " [ 0.25355357  0.91405127 -0.20000598  0.23378023  0.02012977 -0.07183364]\n",
    " [ 0.40390241  0.11256434 -0.04505089 -0.90611928 -0.006436    0.03269487]\n",
    " [ 0.44669261 -0.23400286 -0.40531955  0.20194182 -0.71150595  0.18548105]\n",
    " [ 0.47278464 -0.26332873 -0.120036    0.1543939   0.29697292 -0.76203257]\n",
    " [ 0.48167034 -0.15063729  0.00855457  0.21369194  0.56781402  0.61412694]]\n"
   ]
  },
  {
   "cell_type": "code",
   "execution_count": null,
   "id": "288d2ca8",
   "metadata": {},
   "outputs": [],
   "source": [
    "import numpy as np\n",
    "from sklearn.decomposition import PCA\n",
    "\n",
    "X=np.array([[92,77,80,95,99,126],[97,75,77,80,95,125],[95,80,70,78,89,120],\n",
    "[75,75,73,88,98,110],[92,68,72,79,88,113],[90,85,80,70,78,103],\n",
    "[72,93,75,77,80,100],[88,70,76,72,81,102],[64,70,69,85,93,105],\n",
    "[70,73,70,87,84,100],[78,69,75,73,89,97],[78,72,71,68,75,96],\n",
    "[75,64,63,76,73,92],[84,66,77,55,65,76],[70,64,51,60,67,88],\n",
    "[58,72,75,62,52,75],[82,73,40,50,48,61],[45,65,42,47,43,60]])\n",
    "\n",
    "pca= PCA(n_components=0.9)\n",
    "pca.fit(X)\n",
    "print(pca.explained_variance_ratio_) # ii lit*\n",
    "print(pca.components_)#主成分\n"
   ]
  },
  {
   "cell_type": "code",
   "execution_count": null,
   "id": "637df7c7",
   "metadata": {},
   "outputs": [],
   "source": [
    "[0.77791376 0.10346213 0.05961458]\n",
    "[[-0.29957699 -0.09898531 -0.29571167 -0.39089497 -0.52944942 -0.61635589]\n",
    " [-0.8803172  -0.06780798 -0.04884996  0.41461714  0.21428885  0.01517534]\n",
    " [-0.15691645  0.38050038  0.86729468 -0.0674954  -0.18160381 -0.20214119]]\n"
   ]
  },
  {
   "cell_type": "code",
   "execution_count": null,
   "id": "9a36be8f",
   "metadata": {},
   "outputs": [],
   "source": [
    "import numpy as np\n",
    "import pandas as pd\n",
    "from factor_analyzer import FactorAnalyzer\n",
    "X=np.array([[6.26,4.97,1.29],[7.67,6.07,1.60],[12.82,6.59,6.23],[11.48,5.73,5.75],\n",
    "[9.87,5.91,3.96],[6.40,5.30,1.10],[ 7.67,5.00,2.67],[7.57,5.18,2.39],\n",
    "[7.47,5.89,1.58],[9.36,7.08,2.28],[10.29,5.42,4.87],[12.60,6.30,6.30]])\n",
    "fa = FactorAnalyzer(rotation=None, n_factors=2,\n",
    "method='principal')\n",
    "fa.fit(X)\n",
    "fa_sd = fa.get_factor_variance()\n",
    "fa_df = pd.DataFrame(\n",
    "    {'Eigenvalue':fa_sd[0],'方差贡献率':fa_sd[1],'方差累计贡献率':fa_sd[2]})\n",
    "print(fa_df)\n",
    "print(fa.get_communalities())\n",
    "print(fa.loadings_)\n"
   ]
  },
  {
   "cell_type": "code",
   "execution_count": null,
   "id": "4c4830fa",
   "metadata": {},
   "outputs": [],
   "source": [
    "   Eigenvalue     方差贡献率   方差累计贡献率\n",
    "0    2.305988  0.768663  0.768663\n",
    "1    0.694012  0.231337  1.000000\n",
    "[1. 1. 1.]\n",
    "[[ 0.99053225 -0.13728024]\n",
    " [ 0.69405373  0.71992321]\n",
    " [ 0.91821723 -0.39607717]]\n"
   ]
  },
  {
   "cell_type": "code",
   "execution_count": null,
   "id": "41430656",
   "metadata": {},
   "outputs": [],
   "source": [
    "fa = FactorAnalyzer(rotation='varimax', n_factors=2,\n",
    "method='principal')\n",
    "fa.fit(X)\n",
    "A=fa.loadings_\n",
    "R=fa.corr_\n",
    "B=np.dot(np.transpose(A),np.linalg.inv(R))\n",
    "print(B)\n"
   ]
  },
  {
   "cell_type": "code",
   "execution_count": null,
   "id": "ff4fc29d",
   "metadata": {},
   "outputs": [],
   "source": [
    "[[-12.     4.     8.  ]\n",
    " [ -9.     4.25   9.  ]]\n"
   ]
  },
  {
   "cell_type": "code",
   "execution_count": null,
   "id": "edee508f",
   "metadata": {},
   "outputs": [],
   "source": [
    "import numpy as np\n",
    "import matplotlib.pyplot as plt\n",
    "from factor_analyzer import FactorAnalyzer\n",
    "X=np.array([[70.3,23.7,2.9,3.1],[69.4,23.8,3.0,3.8],[72.8,\n",
    "20.9,2.0,4.3],[74.2,19.0,2.0,4.8]])\n",
    "fa = FactorAnalyzer(rotation='varimax', n_factors=2,\n",
    "method='principal')\n",
    "fa.fit(X)\n",
    "A=fa.loadings_\n",
    "R=fa.corr_\n",
    "B=np.dot(np.transpose(A),np.linalg.inv(R))\n",
    "print(B)\n",
    "F=np.dot(B,np.transpose(X))\n",
    "plt.scatter(F[0], F[1])\n",
    "plt.xlabel('Factor1', fontsize=12)\n",
    "plt.ylabel('Factor2', fontsize=12)\n",
    "plt.show()\n"
   ]
  },
  {
   "cell_type": "code",
   "execution_count": null,
   "id": "5dd2ffbf",
   "metadata": {},
   "outputs": [],
   "source": [
    "[[-2.5  -0.5   0.5   0.75]\n",
    " [ 0.25  0.5   0.75  1.75]]\n"
   ]
  },
  {
   "cell_type": "code",
   "execution_count": null,
   "id": "e1d329d2",
   "metadata": {},
   "outputs": [],
   "source": [
    "import numpy as np\n",
    "from sklearn.discriminant_analysis import LinearDiscriminantAnalysis\n",
    "X=np.array([[24.8,-2.0],[24.1,-2.4],[26.6,-3.0],[23.5,-1.9],[25.5,-2.1],[27.4,-3.1],\n",
    "[22.1,-0.7],[21.6,-1.4],[22,-0.8],[22.8,-1.6],[22.7,-1.5],[21.5,-1.0],[22.1,-1.2],[21.4,-1.3]])\n",
    "y= np.array([1,1,1,1,1,1,2,2, 2,2,2,2,2,2])\n",
    "LDA = LinearDiscriminantAnalysis(store_covariance=True)\n",
    "LDA.fit(X, y)\n",
    "print(LDA.means_)\n",
    "print(LDA.covariance_)\n",
    "print(LDA.coef_)\n",
    "print(LDA.intercept_)\n",
    "print(LDA.predict(X))#给出X的分类结果\n",
    "LDA.score(X,y)#给出准确率\n"
   ]
  },
  {
   "cell_type": "code",
   "execution_count": null,
   "id": "cab8cf47",
   "metadata": {},
   "outputs": [],
   "source": [
    "[[25.31666667 -2.41666667]\n",
    " [22.025      -1.1875    ]]\n",
    "[[ 0.92738095 -0.2664881 ]\n",
    " [-0.2664881   0.14979167]]\n",
    "[[-2.08934247  3.3165165 ]]\n",
    "[55.72079847]\n",
    "[1 1 1 2 1 1 2 2 2 2 2 2 2 2]\n"
   ]
  },
  {
   "cell_type": "code",
   "execution_count": null,
   "id": "fe6a8bfd",
   "metadata": {},
   "outputs": [],
   "source": [
    "0.9285714285714286"
   ]
  },
  {
   "cell_type": "code",
   "execution_count": null,
   "id": "706a6fb5",
   "metadata": {},
   "outputs": [],
   "source": [
    "import numpy as np\n",
    "from sklearn.discriminant_analysis import LinearDiscriminantAnalysis\n",
    "\n",
    "X_train=np.array([[52.89,25.47,15.46,6.66,5.30],[64.59,27.57,19.63,11.27,6.12],\n",
    "[102.59,44.35,32,18.83,7.41],[139.12,63.48,44.44,17.47,13.73],\n",
    "[160.69,73.32,54.15,18.40,14.82],[189.26,89.41,57.16,24.55,18.14],\n",
    "[225.61,106.56,65.59,33.95,19.51],[268.25,114.22,87.90,36.06,30.07],\n",
    "[302.36,136.02,96.86,38,31.48],[348.63,155.01,109.66,48.55,35.41],\n",
    "[408.86,189.97,127.12,42.74,49.03],[438.6,189.9,151.92,47.28,49.5],\n",
    "[543.85,272.8,168.06,52.89,50.1],[575.62,277.22,189.03,61.52,47.85],\n",
    "[975.54,416.64,300.79,111.06,147.05],[1095.34,483.98,335.93,95.90,179.53],\n",
    "[1334.91,609.69,389.14,112.5,223.58],[1688.5,779.94,483.36,134.4,290.80]])\n",
    "y_train = np.array([1,1,1,1,1,1,1,1,1,1,1,1,1,1,2,2,2,2])\n",
    "\n",
    "X_test=np.array([[703.26,359.64,223.08,63.37,57.17],[816.22,398.6,269.85,69.99,77.78]])\n",
    "LDA =LinearDiscriminantAnalysis(store_covariance=True)\n",
    "LDA.fit(X_train, y_train)\n",
    "print('mean:')\n",
    "print(LDA.means_)\n",
    "print('cov:')\n",
    "print(LDA.covariance_)\n",
    "print('decision:')\n",
    "print(LDA.coef_)\n",
    "print(LDA.intercept_)\n",
    "print('predict:')\n",
    "print(LDA.score(X_train,y_train))\n",
    "print('test results:')\n",
    "print(LDA.predict(X_test))\n"
   ]
  },
  {
   "cell_type": "code",
   "execution_count": null,
   "id": "a6d59690",
   "metadata": {},
   "outputs": [],
   "source": [
    "mean:\n",
    "[[ 272.92285714  126.09285714   87.07         32.72642857   27.03357143]\n",
    " [1273.5725      572.5625      377.305       113.465       210.24      ]]\n",
    "cov:\n",
    "[[37481.10472004 18486.0914256  11000.10396944  2700.63051071\n",
    "   5294.27881429]\n",
    " [18486.0914256   9171.02413115  5390.58866944  1302.49396627\n",
    "   2621.98465873]\n",
    " [11000.10396944  5390.58866944  3293.98035      825.7967\n",
    "   1489.73825   ]\n",
    " [ 2700.63051071  1302.49396627   825.7967       246.1027123\n",
    "    326.23713214]\n",
    " [ 5294.27881429  2621.98465873  1489.73825      326.23713214\n",
    "    856.31877341]]\n",
    "decision:\n",
    "[[-0.04560755 -0.38763326  0.26807676  0.73352452  0.9132237 ]]\n",
    "[-54.77929526]\n",
    "predict:\n",
    "1.0\n",
    "test results:\n",
    "[1 1]\n"
   ]
  },
  {
   "cell_type": "code",
   "execution_count": null,
   "id": "0a95315d",
   "metadata": {},
   "outputs": [],
   "source": [
    "import numpy as np\n",
    "from sklearn.naive_bayes import GaussianNB\n",
    "X_train= np.array([ [6.0,-11.5,19,90],[-11.0,-18.5,25,-36],\n",
    "                   [90.2,-17.0,17,3],[-4.0,-15.0,13,54],[0.0,-14.0,20,35]])\n",
    "y_train = np.array([1,3,2,1,2])\n",
    "gnb = GaussianNB()\n",
    "gnb.fit(X_train,y_train)\n",
    "print(gnb.predict(X_train))#预测的分类结果\n",
    "print(gnb.score(X_train,y_train))#分类的准确率\n",
    "print(gnb.class_prior_)#每一类的先验概率\n",
    "print(gnb.class_count_)#每一类的样本数\n",
    "print(gnb.sigma_)#每一类每个特征的方差\n",
    "print(gnb.theta_)#每一类每个特征的均值\n",
    "print(gnb.predict_proba(X_train))#预测的概率\n"
   ]
  },
  {
   "cell_type": "code",
   "execution_count": null,
   "id": "00543d1e",
   "metadata": {},
   "outputs": [],
   "source": [
    "[1 3 2 1 1]\n",
    "0.8\n",
    "[0.4 0.4 0.2]\n",
    "[2. 2. 1.]\n",
    "[[2.50000019e+01 3.06250186e+00 9.00000186e+00 3.24000002e+02]\n",
    " [2.03401000e+03 2.25000186e+00 2.25000186e+00 2.56000002e+02]\n",
    " [1.85656000e-06 1.85656000e-06 1.85656000e-06 1.85656000e-06]]\n",
    "[[  1.   -13.25  16.    72.  ]\n",
    " [ 45.1  -15.5   18.5   19.  ]\n",
    " [-11.   -18.5   25.   -36.  ]]\n",
    "[[9.99997886e-01 2.11387165e-06 0.00000000e+00]\n",
    " [1.53931880e-27 6.02491037e-23 1.00000000e+00]\n",
    " [1.20804917e-72 1.00000000e+00 0.00000000e+00]\n",
    " [9.99876277e-01 1.23723267e-04 0.00000000e+00]\n",
    " [5.30208987e-01 4.69791013e-01 0.00000000e+00]]\n"
   ]
  },
  {
   "cell_type": "code",
   "execution_count": 2,
   "id": "caae400c",
   "metadata": {},
   "outputs": [
    {
     "data": {
      "image/png": "[encoded data removed]",
      "text/plain": [
       "<Figure size 640x480 with 1 Axes>"
      ]
     },
     "metadata": {},
     "output_type": "display_data"
    },
    {
     "name": "stdout",
     "output_type": "stream",
     "text": [
      "[[ 2.          3.          2.2032703   2.        ]\n",
      " [ 4.          5.          2.21585198  3.        ]\n",
      " [ 0.          6.         14.35228205  4.        ]\n",
      " [ 1.          7.         16.28404434  5.        ]]\n"
     ]
    }
   ],
   "source": [
    "import numpy as np\n",
    "from matplotlib import pyplot as plt\n",
    "from scipy.cluster.hierarchy import linkage, dendrogram\n",
    "\n",
    "data=np.array([[7.90,39.77,8.49,1.94,19.27,11.05,2.04,13.29],\n",
    "               [7.68,50.37,11.35,13.30,19.25,14.59,2.75,14.87],\n",
    "               [9.42,27.93,8.20,8.14,16.17,9.42,1.55,9.76],\n",
    "               [9.16,27.98,9.01,9.32,15.99,9.10,1.82,11.35],\n",
    "               [10.06,28.64,10.52,10.05,16.18,8.39,1.96,10.81]])\n",
    "\n",
    "z = linkage(data, method = 'single', metric = 'euclidean')\n",
    "p=dendrogram(z)#画谱系聚类图\n",
    "plt.show()\n",
    "print(z)#输出聚类集、新类中样品数和最短聚类\n",
    "#method: complete, average, centroid, ward.\n"
   ]
  },
  {
   "cell_type": "code",
   "execution_count": null,
   "id": "3054fc10",
   "metadata": {},
   "outputs": [],
   "source": [
    "[[ 2.          3.          2.2032703   2.        ]\n",
    " [ 4.          5.          2.21585198  3.        ]\n",
    " [ 0.          6.         14.35228205  4.        ]\n",
    " [ 1.          7.         16.28404434  5.        ]]\n"
   ]
  },
  {
   "cell_type": "code",
   "execution_count": null,
   "id": "9716b170",
   "metadata": {},
   "outputs": [],
   "source": [
    "import numpy as np\n",
    "from matplotlib import pyplot as plt\n",
    "from scipy.cluster.hierarchy import linkage, dendrogram\n",
    "\n",
    "data=[2,2,7,6,6,6,6,7,9,9,1,5,4,6,6,6,7,8,9,6,5,6,5,5,6,8,9,5,9,\n",
    "      9,9,10,8,9,7,7,7,8,9,9,2,1,5,10,9,1,3,10,9,4,10,9,10,9,8]\n",
    "#下三角距离矩阵按列输入\n",
    "z = linkage(data, method = 'single') # I PE 7 NEE ( Bt,\n",
    "#metric = 'euclidean'\n",
    "print(z)\n",
    "p = dendrogram(z)# % PK\n",
    "plt.show()\n",
    "\n",
    "#method: single, complete, average, centroid, ward.\n"
   ]
  },
  {
   "cell_type": "code",
   "execution_count": null,
   "id": "29251f43",
   "metadata": {},
   "outputs": [],
   "source": [
    "[[ 1.  2.  1.  2.]\n",
    " [ 6.  7.  1.  2.]\n",
    " [ 5. 12.  1.  3.]\n",
    " [ 0. 11.  2.  3.]\n",
    " [ 8. 13.  3.  4.]\n",
    " [ 4. 14.  4.  4.]\n",
    " [ 3. 16.  5.  5.]\n",
    " [15. 17.  5.  9.]\n",
    " [ 9. 18.  8. 10.]\n",
    " [10. 19.  8. 11.]]\n"
   ]
  },
  {
   "cell_type": "code",
   "execution_count": null,
   "id": "dc750033",
   "metadata": {},
   "outputs": [],
   "source": [
    "import numpy as np\n",
    "import matplotlib.pyplot as plt\n",
    "from sklearn.cluster import KMeans\n",
    "\n",
    "K=3\n",
    "center=np.array([[4,3],[-3,2],[0,-1]]) #初始聚点\n",
    "data =np.array([[0,5],[2,3],[2,5],[4,4],[4,3],[5,1],[6,2],[-4,3],\n",
    "                [-3,2],[-3,0],[-5,2],[1,1],[0,-1],[0,-2],[-1,-1],[-1,-3]])\n",
    "\n",
    "kc=KMeans(n_clusters=K,init= center).fit(data)\n",
    "print(kc.labels_)#分类的标号\n",
    "print(kc.cluster_centers_)#聚类重心\n"
   ]
  },
  {
   "cell_type": "code",
   "execution_count": null,
   "id": "e619d245",
   "metadata": {},
   "outputs": [],
   "source": [
    "[1 0 0 0 0 0 0 1 1 1 1 2 2 2 2 2]\n",
    "[[ 3.83333333  3.        ]\n",
    " [-3.          2.4       ]\n",
    " [-0.2        -1.2       ]]\n"
   ]
  },
  {
   "cell_type": "code",
   "execution_count": null,
   "id": "7db38fab",
   "metadata": {},
   "outputs": [],
   "source": [
    "<ipython-input-48-5368137ad7bc>:10: RuntimeWarning: Explicit initial center position passed: performing only one init in k-means instead of n_init=10\n",
    "  kc=KMeans(n_clusters=K,init= center).fit(data)\n"
   ]
  },
  {
   "cell_type": "code",
   "execution_count": null,
   "id": "26d41bee",
   "metadata": {},
   "outputs": [],
   "source": [
    "kc=KMeans(n_clusters=K,init='random').fit(data)\n",
    "kc=KMeans(n_clusters=K,init= 'k-means++').fit(data)\n"
   ]
  },
  {
   "cell_type": "code",
   "execution_count": null,
   "id": "3bf997b9",
   "metadata": {},
   "outputs": [],
   "source": [
    " \n"
   ]
  },
  {
   "cell_type": "code",
   "execution_count": null,
   "id": "12732571",
   "metadata": {},
   "outputs": [],
   "source": [
    "\n",
    "import matplotlib.pyplot as plt\n",
    "import seaborn as sns\n",
    "import numpy as np\n",
    "import pandas as pd\n",
    "\n",
    "# 生成示例数据\n",
    "np.random.seed(42)\n",
    "data = pd.DataFrame({\n",
    "    'x': np.linspace(0, 10, 100),\n",
    "    'y': np.sin(np.linspace(0, 10, 100)) + np.random.normal(scale=0.1, size=100)\n",
    "})\n",
    "\n",
    "# 绘制折线图\n",
    "plt.figure(figsize=(8, 5))\n",
    "plt.plot(data['x'], data['y'], label='Sine wave with noise')\n",
    "plt.xlabel('X axis')\n",
    "plt.ylabel('Y axis')\n",
    "plt.title('示例折线图')\n",
    "plt.legend()\n",
    "plt.show()\n",
    "\n",
    "# 使用 Seaborn 画散点图\n",
    "sns.set_style(\"whitegrid\")\n",
    "plt.figure(figsize=(8, 5))\n",
    "sns.scatterplot(x=data['x'], y=data['y'])\n",
    "plt.title('示例散点图')\n",
    "plt.show()\n"
   ]
  },
  {
   "cell_type": "code",
   "execution_count": 1,
   "id": "835ed2a4",
   "metadata": {},
   "outputs": [
    {
     "name": "stderr",
     "output_type": "stream",
     "text": [
      "D:\\anaconda3\\Lib\\site-packages\\IPython\\core\\pylabtools.py:170: UserWarning: Glyph 31034 (\\N{CJK UNIFIED IDEOGRAPH-793A}) missing from font(s) Arial.\n",
      "  fig.canvas.print_figure(bytes_io, **kw)\n",
      "D:\\anaconda3\\Lib\\site-packages\\IPython\\core\\pylabtools.py:170: UserWarning: Glyph 20363 (\\N{CJK UNIFIED IDEOGRAPH-4F8B}) missing from font(s) Arial.\n",
      "  fig.canvas.print_figure(bytes_io, **kw)\n",
      "D:\\anaconda3\\Lib\\site-packages\\IPython\\core\\pylabtools.py:170: UserWarning: Glyph 25240 (\\N{CJK UNIFIED IDEOGRAPH-6298}) missing from font(s) Arial.\n",
      "  fig.canvas.print_figure(bytes_io, **kw)\n",
      "D:\\anaconda3\\Lib\\site-packages\\IPython\\core\\pylabtools.py:170: UserWarning: Glyph 32447 (\\N{CJK UNIFIED IDEOGRAPH-7EBF}) missing from font(s) Arial.\n",
      "  fig.canvas.print_figure(bytes_io, **kw)\n",
      "D:\\anaconda3\\Lib\\site-packages\\IPython\\core\\pylabtools.py:170: UserWarning: Glyph 22270 (\\N{CJK UNIFIED IDEOGRAPH-56FE}) missing from font(s) Arial.\n",
      "  fig.canvas.print_figure(bytes_io, **kw)\n"
     ]
    },
    {
     "data": {
      "image/png": "[encoded data removed]",
      "text/plain": [
       "<Figure size 800x500 with 1 Axes>"
      ]
     },
     "metadata": {},
     "output_type": "display_data"
    },
    {
     "name": "stderr",
     "output_type": "stream",
     "text": [
      "D:\\anaconda3\\Lib\\site-packages\\IPython\\core\\pylabtools.py:170: UserWarning: Glyph 31034 (\\N{CJK UNIFIED IDEOGRAPH-793A}) missing from font(s) Arial.\n",
      "  fig.canvas.print_figure(bytes_io, **kw)\n",
      "D:\\anaconda3\\Lib\\site-packages\\IPython\\core\\pylabtools.py:170: UserWarning: Glyph 20363 (\\N{CJK UNIFIED IDEOGRAPH-4F8B}) missing from font(s) Arial.\n",
      "  fig.canvas.print_figure(bytes_io, **kw)\n",
      "D:\\anaconda3\\Lib\\site-packages\\IPython\\core\\pylabtools.py:170: UserWarning: Glyph 25955 (\\N{CJK UNIFIED IDEOGRAPH-6563}) missing from font(s) Arial.\n",
      "  fig.canvas.print_figure(bytes_io, **kw)\n",
      "D:\\anaconda3\\Lib\\site-packages\\IPython\\core\\pylabtools.py:170: UserWarning: Glyph 28857 (\\N{CJK UNIFIED IDEOGRAPH-70B9}) missing from font(s) Arial.\n",
      "  fig.canvas.print_figure(bytes_io, **kw)\n",
      "D:\\anaconda3\\Lib\\site-packages\\IPython\\core\\pylabtools.py:170: UserWarning: Glyph 22270 (\\N{CJK UNIFIED IDEOGRAPH-56FE}) missing from font(s) Arial.\n",
      "  fig.canvas.print_figure(bytes_io, **kw)\n",
      "D:\\anaconda3\\Lib\\site-packages\\IPython\\core\\pylabtools.py:170: UserWarning: Glyph 65288 (\\N{FULLWIDTH LEFT PARENTHESIS}) missing from font(s) Arial.\n",
      "  fig.canvas.print_figure(bytes_io, **kw)\n",
      "D:\\anaconda3\\Lib\\site-packages\\IPython\\core\\pylabtools.py:170: UserWarning: Glyph 25353 (\\N{CJK UNIFIED IDEOGRAPH-6309}) missing from font(s) Arial.\n",
      "  fig.canvas.print_figure(bytes_io, **kw)\n",
      "D:\\anaconda3\\Lib\\site-packages\\IPython\\core\\pylabtools.py:170: UserWarning: Glyph 31867 (\\N{CJK UNIFIED IDEOGRAPH-7C7B}) missing from font(s) Arial.\n",
      "  fig.canvas.print_figure(bytes_io, **kw)\n",
      "D:\\anaconda3\\Lib\\site-packages\\IPython\\core\\pylabtools.py:170: UserWarning: Glyph 21035 (\\N{CJK UNIFIED IDEOGRAPH-522B}) missing from font(s) Arial.\n",
      "  fig.canvas.print_figure(bytes_io, **kw)\n",
      "D:\\anaconda3\\Lib\\site-packages\\IPython\\core\\pylabtools.py:170: UserWarning: Glyph 30528 (\\N{CJK UNIFIED IDEOGRAPH-7740}) missing from font(s) Arial.\n",
      "  fig.canvas.print_figure(bytes_io, **kw)\n",
      "D:\\anaconda3\\Lib\\site-packages\\IPython\\core\\pylabtools.py:170: UserWarning: Glyph 33394 (\\N{CJK UNIFIED IDEOGRAPH-8272}) missing from font(s) Arial.\n",
      "  fig.canvas.print_figure(bytes_io, **kw)\n",
      "D:\\anaconda3\\Lib\\site-packages\\IPython\\core\\pylabtools.py:170: UserWarning: Glyph 65289 (\\N{FULLWIDTH RIGHT PARENTHESIS}) missing from font(s) Arial.\n",
      "  fig.canvas.print_figure(bytes_io, **kw)\n"
     ]
    },
    {
     "data": {
      "image/png": "[encoded data removed]",
      "text/plain": [
       "<Figure size 800x500 with 1 Axes>"
      ]
     },
     "metadata": {},
     "output_type": "display_data"
    },
    {
     "name": "stderr",
     "output_type": "stream",
     "text": [
      "D:\\anaconda3\\Lib\\site-packages\\IPython\\core\\pylabtools.py:170: UserWarning: Glyph 20540 (\\N{CJK UNIFIED IDEOGRAPH-503C}) missing from font(s) Arial.\n",
      "  fig.canvas.print_figure(bytes_io, **kw)\n",
      "D:\\anaconda3\\Lib\\site-packages\\IPython\\core\\pylabtools.py:170: UserWarning: Glyph 39057 (\\N{CJK UNIFIED IDEOGRAPH-9891}) missing from font(s) Arial.\n",
      "  fig.canvas.print_figure(bytes_io, **kw)\n",
      "D:\\anaconda3\\Lib\\site-packages\\IPython\\core\\pylabtools.py:170: UserWarning: Glyph 25968 (\\N{CJK UNIFIED IDEOGRAPH-6570}) missing from font(s) Arial.\n",
      "  fig.canvas.print_figure(bytes_io, **kw)\n",
      "D:\\anaconda3\\Lib\\site-packages\\IPython\\core\\pylabtools.py:170: UserWarning: Glyph 31034 (\\N{CJK UNIFIED IDEOGRAPH-793A}) missing from font(s) Arial.\n",
      "  fig.canvas.print_figure(bytes_io, **kw)\n",
      "D:\\anaconda3\\Lib\\site-packages\\IPython\\core\\pylabtools.py:170: UserWarning: Glyph 20363 (\\N{CJK UNIFIED IDEOGRAPH-4F8B}) missing from font(s) Arial.\n",
      "  fig.canvas.print_figure(bytes_io, **kw)\n",
      "D:\\anaconda3\\Lib\\site-packages\\IPython\\core\\pylabtools.py:170: UserWarning: Glyph 30452 (\\N{CJK UNIFIED IDEOGRAPH-76F4}) missing from font(s) Arial.\n",
      "  fig.canvas.print_figure(bytes_io, **kw)\n",
      "D:\\anaconda3\\Lib\\site-packages\\IPython\\core\\pylabtools.py:170: UserWarning: Glyph 26041 (\\N{CJK UNIFIED IDEOGRAPH-65B9}) missing from font(s) Arial.\n",
      "  fig.canvas.print_figure(bytes_io, **kw)\n",
      "D:\\anaconda3\\Lib\\site-packages\\IPython\\core\\pylabtools.py:170: UserWarning: Glyph 22270 (\\N{CJK UNIFIED IDEOGRAPH-56FE}) missing from font(s) Arial.\n",
      "  fig.canvas.print_figure(bytes_io, **kw)\n"
     ]
    },
    {
     "data": {
      "image/png": "[encoded data removed]",
      "text/plain": [
       "<Figure size 800x500 with 1 Axes>"
      ]
     },
     "metadata": {},
     "output_type": "display_data"
    },
    {
     "name": "stderr",
     "output_type": "stream",
     "text": [
      "C:\\Users\\mu'tong\\AppData\\Local\\Temp\\ipykernel_64812\\3702947835.py:43: FutureWarning: \n",
      "\n",
      "Passing `palette` without assigning `hue` is deprecated and will be removed in v0.14.0. Assign the `x` variable to `hue` and set `legend=False` for the same effect.\n",
      "\n",
      "  sns.boxplot(x=data['category'], y=data['value'], palette='Set2')\n",
      "D:\\anaconda3\\Lib\\site-packages\\IPython\\core\\pylabtools.py:170: UserWarning: Glyph 31867 (\\N{CJK UNIFIED IDEOGRAPH-7C7B}) missing from font(s) Arial.\n",
      "  fig.canvas.print_figure(bytes_io, **kw)\n",
      "D:\\anaconda3\\Lib\\site-packages\\IPython\\core\\pylabtools.py:170: UserWarning: Glyph 21035 (\\N{CJK UNIFIED IDEOGRAPH-522B}) missing from font(s) Arial.\n",
      "  fig.canvas.print_figure(bytes_io, **kw)\n",
      "D:\\anaconda3\\Lib\\site-packages\\IPython\\core\\pylabtools.py:170: UserWarning: Glyph 20540 (\\N{CJK UNIFIED IDEOGRAPH-503C}) missing from font(s) Arial.\n",
      "  fig.canvas.print_figure(bytes_io, **kw)\n",
      "D:\\anaconda3\\Lib\\site-packages\\IPython\\core\\pylabtools.py:170: UserWarning: Glyph 31034 (\\N{CJK UNIFIED IDEOGRAPH-793A}) missing from font(s) Arial.\n",
      "  fig.canvas.print_figure(bytes_io, **kw)\n",
      "D:\\anaconda3\\Lib\\site-packages\\IPython\\core\\pylabtools.py:170: UserWarning: Glyph 20363 (\\N{CJK UNIFIED IDEOGRAPH-4F8B}) missing from font(s) Arial.\n",
      "  fig.canvas.print_figure(bytes_io, **kw)\n",
      "D:\\anaconda3\\Lib\\site-packages\\IPython\\core\\pylabtools.py:170: UserWarning: Glyph 31665 (\\N{CJK UNIFIED IDEOGRAPH-7BB1}) missing from font(s) Arial.\n",
      "  fig.canvas.print_figure(bytes_io, **kw)\n",
      "D:\\anaconda3\\Lib\\site-packages\\IPython\\core\\pylabtools.py:170: UserWarning: Glyph 32447 (\\N{CJK UNIFIED IDEOGRAPH-7EBF}) missing from font(s) Arial.\n",
      "  fig.canvas.print_figure(bytes_io, **kw)\n",
      "D:\\anaconda3\\Lib\\site-packages\\IPython\\core\\pylabtools.py:170: UserWarning: Glyph 22270 (\\N{CJK UNIFIED IDEOGRAPH-56FE}) missing from font(s) Arial.\n",
      "  fig.canvas.print_figure(bytes_io, **kw)\n",
      "D:\\anaconda3\\Lib\\site-packages\\IPython\\core\\pylabtools.py:170: UserWarning: Glyph 65288 (\\N{FULLWIDTH LEFT PARENTHESIS}) missing from font(s) Arial.\n",
      "  fig.canvas.print_figure(bytes_io, **kw)\n",
      "D:\\anaconda3\\Lib\\site-packages\\IPython\\core\\pylabtools.py:170: UserWarning: Glyph 25353 (\\N{CJK UNIFIED IDEOGRAPH-6309}) missing from font(s) Arial.\n",
      "  fig.canvas.print_figure(bytes_io, **kw)\n",
      "D:\\anaconda3\\Lib\\site-packages\\IPython\\core\\pylabtools.py:170: UserWarning: Glyph 65289 (\\N{FULLWIDTH RIGHT PARENTHESIS}) missing from font(s) Arial.\n",
      "  fig.canvas.print_figure(bytes_io, **kw)\n"
     ]
    },
    {
     "data": {
      "image/png": "[encoded data removed]",
      "text/plain": [
       "<Figure size 800x500 with 1 Axes>"
      ]
     },
     "metadata": {},
     "output_type": "display_data"
    },
    {
     "name": "stderr",
     "output_type": "stream",
     "text": [
      "D:\\anaconda3\\Lib\\site-packages\\IPython\\core\\pylabtools.py:170: UserWarning: Glyph 31034 (\\N{CJK UNIFIED IDEOGRAPH-793A}) missing from font(s) Arial.\n",
      "  fig.canvas.print_figure(bytes_io, **kw)\n",
      "D:\\anaconda3\\Lib\\site-packages\\IPython\\core\\pylabtools.py:170: UserWarning: Glyph 20363 (\\N{CJK UNIFIED IDEOGRAPH-4F8B}) missing from font(s) Arial.\n",
      "  fig.canvas.print_figure(bytes_io, **kw)\n",
      "D:\\anaconda3\\Lib\\site-packages\\IPython\\core\\pylabtools.py:170: UserWarning: Glyph 30456 (\\N{CJK UNIFIED IDEOGRAPH-76F8}) missing from font(s) Arial.\n",
      "  fig.canvas.print_figure(bytes_io, **kw)\n",
      "D:\\anaconda3\\Lib\\site-packages\\IPython\\core\\pylabtools.py:170: UserWarning: Glyph 20851 (\\N{CJK UNIFIED IDEOGRAPH-5173}) missing from font(s) Arial.\n",
      "  fig.canvas.print_figure(bytes_io, **kw)\n",
      "D:\\anaconda3\\Lib\\site-packages\\IPython\\core\\pylabtools.py:170: UserWarning: Glyph 24615 (\\N{CJK UNIFIED IDEOGRAPH-6027}) missing from font(s) Arial.\n",
      "  fig.canvas.print_figure(bytes_io, **kw)\n",
      "D:\\anaconda3\\Lib\\site-packages\\IPython\\core\\pylabtools.py:170: UserWarning: Glyph 28909 (\\N{CJK UNIFIED IDEOGRAPH-70ED}) missing from font(s) Arial.\n",
      "  fig.canvas.print_figure(bytes_io, **kw)\n",
      "D:\\anaconda3\\Lib\\site-packages\\IPython\\core\\pylabtools.py:170: UserWarning: Glyph 21147 (\\N{CJK UNIFIED IDEOGRAPH-529B}) missing from font(s) Arial.\n",
      "  fig.canvas.print_figure(bytes_io, **kw)\n",
      "D:\\anaconda3\\Lib\\site-packages\\IPython\\core\\pylabtools.py:170: UserWarning: Glyph 22270 (\\N{CJK UNIFIED IDEOGRAPH-56FE}) missing from font(s) Arial.\n",
      "  fig.canvas.print_figure(bytes_io, **kw)\n"
     ]
    },
    {
     "data": {
      "image/png": "[encoded data removed]",
      "text/plain": [
       "<Figure size 600x500 with 2 Axes>"
      ]
     },
     "metadata": {},
     "output_type": "display_data"
    },
    {
     "name": "stderr",
     "output_type": "stream",
     "text": [
      "C:\\Users\\mu'tong\\AppData\\Local\\Temp\\ipykernel_64812\\3702947835.py:58: FutureWarning: \n",
      "\n",
      "Passing `palette` without assigning `hue` is deprecated and will be removed in v0.14.0. Assign the `x` variable to `hue` and set `legend=False` for the same effect.\n",
      "\n",
      "  sns.barplot(x=data['category'].value_counts().index, y=data['category'].value_counts().values, palette='muted')\n",
      "D:\\anaconda3\\Lib\\site-packages\\IPython\\core\\pylabtools.py:170: UserWarning: Glyph 31867 (\\N{CJK UNIFIED IDEOGRAPH-7C7B}) missing from font(s) Arial.\n",
      "  fig.canvas.print_figure(bytes_io, **kw)\n",
      "D:\\anaconda3\\Lib\\site-packages\\IPython\\core\\pylabtools.py:170: UserWarning: Glyph 21035 (\\N{CJK UNIFIED IDEOGRAPH-522B}) missing from font(s) Arial.\n",
      "  fig.canvas.print_figure(bytes_io, **kw)\n",
      "D:\\anaconda3\\Lib\\site-packages\\IPython\\core\\pylabtools.py:170: UserWarning: Glyph 35745 (\\N{CJK UNIFIED IDEOGRAPH-8BA1}) missing from font(s) Arial.\n",
      "  fig.canvas.print_figure(bytes_io, **kw)\n",
      "D:\\anaconda3\\Lib\\site-packages\\IPython\\core\\pylabtools.py:170: UserWarning: Glyph 25968 (\\N{CJK UNIFIED IDEOGRAPH-6570}) missing from font(s) Arial.\n",
      "  fig.canvas.print_figure(bytes_io, **kw)\n",
      "D:\\anaconda3\\Lib\\site-packages\\IPython\\core\\pylabtools.py:170: UserWarning: Glyph 31034 (\\N{CJK UNIFIED IDEOGRAPH-793A}) missing from font(s) Arial.\n",
      "  fig.canvas.print_figure(bytes_io, **kw)\n",
      "D:\\anaconda3\\Lib\\site-packages\\IPython\\core\\pylabtools.py:170: UserWarning: Glyph 20363 (\\N{CJK UNIFIED IDEOGRAPH-4F8B}) missing from font(s) Arial.\n",
      "  fig.canvas.print_figure(bytes_io, **kw)\n",
      "D:\\anaconda3\\Lib\\site-packages\\IPython\\core\\pylabtools.py:170: UserWarning: Glyph 26609 (\\N{CJK UNIFIED IDEOGRAPH-67F1}) missing from font(s) Arial.\n",
      "  fig.canvas.print_figure(bytes_io, **kw)\n",
      "D:\\anaconda3\\Lib\\site-packages\\IPython\\core\\pylabtools.py:170: UserWarning: Glyph 29366 (\\N{CJK UNIFIED IDEOGRAPH-72B6}) missing from font(s) Arial.\n",
      "  fig.canvas.print_figure(bytes_io, **kw)\n",
      "D:\\anaconda3\\Lib\\site-packages\\IPython\\core\\pylabtools.py:170: UserWarning: Glyph 22270 (\\N{CJK UNIFIED IDEOGRAPH-56FE}) missing from font(s) Arial.\n",
      "  fig.canvas.print_figure(bytes_io, **kw)\n"
     ]
    },
    {
     "data": {
      "image/png": "[encoded data removed]",
      "text/plain": [
       "<Figure size 800x500 with 1 Axes>"
      ]
     },
     "metadata": {},
     "output_type": "display_data"
    },
    {
     "name": "stderr",
     "output_type": "stream",
     "text": [
      "C:\\Users\\mu'tong\\AppData\\Local\\Temp\\ipykernel_64812\\3702947835.py:66: FutureWarning: \n",
      "\n",
      "Passing `palette` without assigning `hue` is deprecated and will be removed in v0.14.0. Assign the `x` variable to `hue` and set `legend=False` for the same effect.\n",
      "\n",
      "  sns.violinplot(x=data['category'], y=data['value'], palette='pastel')\n",
      "D:\\anaconda3\\Lib\\site-packages\\IPython\\core\\pylabtools.py:170: UserWarning: Glyph 31867 (\\N{CJK UNIFIED IDEOGRAPH-7C7B}) missing from font(s) Arial.\n",
      "  fig.canvas.print_figure(bytes_io, **kw)\n",
      "D:\\anaconda3\\Lib\\site-packages\\IPython\\core\\pylabtools.py:170: UserWarning: Glyph 21035 (\\N{CJK UNIFIED IDEOGRAPH-522B}) missing from font(s) Arial.\n",
      "  fig.canvas.print_figure(bytes_io, **kw)\n",
      "D:\\anaconda3\\Lib\\site-packages\\IPython\\core\\pylabtools.py:170: UserWarning: Glyph 20540 (\\N{CJK UNIFIED IDEOGRAPH-503C}) missing from font(s) Arial.\n",
      "  fig.canvas.print_figure(bytes_io, **kw)\n",
      "D:\\anaconda3\\Lib\\site-packages\\IPython\\core\\pylabtools.py:170: UserWarning: Glyph 31034 (\\N{CJK UNIFIED IDEOGRAPH-793A}) missing from font(s) Arial.\n",
      "  fig.canvas.print_figure(bytes_io, **kw)\n",
      "D:\\anaconda3\\Lib\\site-packages\\IPython\\core\\pylabtools.py:170: UserWarning: Glyph 20363 (\\N{CJK UNIFIED IDEOGRAPH-4F8B}) missing from font(s) Arial.\n",
      "  fig.canvas.print_figure(bytes_io, **kw)\n",
      "D:\\anaconda3\\Lib\\site-packages\\IPython\\core\\pylabtools.py:170: UserWarning: Glyph 23567 (\\N{CJK UNIFIED IDEOGRAPH-5C0F}) missing from font(s) Arial.\n",
      "  fig.canvas.print_figure(bytes_io, **kw)\n",
      "D:\\anaconda3\\Lib\\site-packages\\IPython\\core\\pylabtools.py:170: UserWarning: Glyph 25552 (\\N{CJK UNIFIED IDEOGRAPH-63D0}) missing from font(s) Arial.\n",
      "  fig.canvas.print_figure(bytes_io, **kw)\n",
      "D:\\anaconda3\\Lib\\site-packages\\IPython\\core\\pylabtools.py:170: UserWarning: Glyph 29748 (\\N{CJK UNIFIED IDEOGRAPH-7434}) missing from font(s) Arial.\n",
      "  fig.canvas.print_figure(bytes_io, **kw)\n",
      "D:\\anaconda3\\Lib\\site-packages\\IPython\\core\\pylabtools.py:170: UserWarning: Glyph 22270 (\\N{CJK UNIFIED IDEOGRAPH-56FE}) missing from font(s) Arial.\n",
      "  fig.canvas.print_figure(bytes_io, **kw)\n"
     ]
    },
    {
     "data": {
      "image/png": "[encoded data removed]",
      "text/plain": [
       "<Figure size 800x500 with 1 Axes>"
      ]
     },
     "metadata": {},
     "output_type": "display_data"
    }
   ],
   "source": [
    "\n",
    "import matplotlib.pyplot as plt\n",
    "import seaborn as sns\n",
    "import numpy as np\n",
    "import pandas as pd\n",
    "\n",
    "# 设置风格\n",
    "sns.set_style(\"whitegrid\")\n",
    "\n",
    "# 生成示例数据\n",
    "np.random.seed(42)\n",
    "data = pd.DataFrame({\n",
    "    'x': np.linspace(0, 10, 100),\n",
    "    'y': np.sin(np.linspace(0, 10, 100)) + np.random.normal(scale=0.1, size=100),\n",
    "    'category': np.random.choice(['A', 'B', 'C'], size=100),\n",
    "    'value': np.random.normal(loc=50, scale=10, size=100)\n",
    "})\n",
    "\n",
    "# 1. 折线图\n",
    "plt.figure(figsize=(8, 5))\n",
    "plt.plot(data['x'], data['y'], label='Sine wave with noise', color='blue', linestyle='--', marker='o')\n",
    "plt.xlabel('X axis')\n",
    "plt.ylabel('Y axis')\n",
    "plt.title('示例折线图')\n",
    "plt.legend()\n",
    "plt.show()\n",
    "\n",
    "# 2. 散点图（带颜色区分类别）\n",
    "plt.figure(figsize=(8, 5))\n",
    "sns.scatterplot(x=data['x'], y=data['y'], hue=data['category'], palette='deep')\n",
    "plt.title('示例散点图（按类别着色）')\n",
    "plt.show()\n",
    "\n",
    "# 3. 直方图\n",
    "plt.figure(figsize=(8, 5))\n",
    "sns.histplot(data['value'], bins=20, kde=True, color='purple')\n",
    "plt.title('示例直方图')\n",
    "plt.xlabel('值')\n",
    "plt.ylabel('频数')\n",
    "plt.show()\n",
    "\n",
    "# 4. 箱线图（按类别展示分布）\n",
    "plt.figure(figsize=(8, 5))\n",
    "sns.boxplot(x=data['category'], y=data['value'], palette='Set2')\n",
    "plt.title('示例箱线图（按类别）')\n",
    "plt.xlabel('类别')\n",
    "plt.ylabel('值')\n",
    "plt.show()\n",
    "\n",
    "# 5. 热力图（相关矩阵）\n",
    "corr_matrix = data[['x', 'y', 'value']].corr()\n",
    "plt.figure(figsize=(6, 5))\n",
    "sns.heatmap(corr_matrix, annot=True, cmap='coolwarm', linewidths=0.5)\n",
    "plt.title('示例相关性热力图')\n",
    "plt.show()\n",
    "\n",
    "# 6. 柱状图\n",
    "plt.figure(figsize=(8, 5))\n",
    "sns.barplot(x=data['category'].value_counts().index, y=data['category'].value_counts().values, palette='muted')\n",
    "plt.title('示例类别柱状图')\n",
    "plt.xlabel('类别')\n",
    "plt.ylabel('计数')\n",
    "plt.show()\n",
    "\n",
    "# 7. 小提琴图（显示数据分布）\n",
    "plt.figure(figsize=(8, 5))\n",
    "sns.violinplot(x=data['category'], y=data['value'], palette='pastel')\n",
    "plt.title('示例小提琴图')\n",
    "plt.xlabel('类别')\n",
    "plt.ylabel('值')\n",
    "plt.show()\n"
   ]
  },
  {
   "cell_type": "code",
   "execution_count": null,
   "id": "d44d621c-328b-4eb5-ba47-124d85c7da07",
   "metadata": {},
   "outputs": [],
   "source": []
  }
 ],
 "metadata": {
  "kernelspec": {
   "display_name": "Python 3 (ipykernel)",
   "language": "python",
   "name": "python3"
  },
  "language_info": {
   "codemirror_mode": {
    "name": "ipython",
    "version": 3
   },
   "file_extension": ".py",
   "mimetype": "text/x-python",
   "name": "python",
   "nbconvert_exporter": "python",
   "pygments_lexer": "ipython3",
   "version": "3.12.7"
  }
 },
 "nbformat": 4,
 "nbformat_minor": 5
}
